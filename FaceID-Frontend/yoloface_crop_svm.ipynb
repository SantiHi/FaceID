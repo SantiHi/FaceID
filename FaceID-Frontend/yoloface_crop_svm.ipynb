{
 "cells": [
  {
   "cell_type": "code",
   "execution_count": null,
   "metadata": {},
   "outputs": [],
   "source": [
    "import cv2\n",
    "from ultralytics import YOLO\n",
    "import numpy as np\n",
    "import pandas as pd\n",
    "import os\n",
    "import face_recognition\n",
    "from keras_facenet import FaceNet\n",
    "from matplotlib import pyplot as plt\n",
    "#from keras.models import load_model\n",
    "#from PIL import Image"
   ]
  },
  {
   "cell_type": "code",
   "execution_count": null,
   "metadata": {},
   "outputs": [],
   "source": [
    "model = YOLO('best.pt')\n",
    "\n",
    "embedder = FaceNet()\n",
    "#cap = cv2.VideoCapture(0)\n",
    "\n",
    "def filePaths(directory):\n",
    "    files = []\n",
    "    for dirpath,_,filenames in os.walk(directory):\n",
    "        for f in filenames:\n",
    "            files.append(os.path.join(dirpath, f))\n",
    "    return files\n",
    "\n",
    "def one_hot(array):\n",
    "    unique, inverse = np.unique(array, return_inverse=True)\n",
    "    onehot = np.eye(unique.shape[0])[inverse]\n",
    "    return onehot\n",
    "\n",
    "X = []\n",
    "y = []\n",
    "\n",
    "for filename in filePaths('Class_Data'):\n",
    "    frame = cv2.imread(filename)\n",
    "    results = model(frame)\n",
    "    b = results[0].boxes.xyxy[0].numpy().astype(int)\n",
    "    print(b)\n",
    "    annotated_frame = frame[b[1]:b[3], b[0]:b[2]]\n",
    "    face_image = cv2.resize(annotated_frame, (128, 128))\n",
    "    embedding_result = embedder.embeddings([face_image])[0]\n",
    "    X.append(embedding_result)\n",
    "    y.append(filename[filename.find('\\\\')+1:filename.find('\\\\IMG')])\n",
    "    cv2.imshow(\"YOLOv8 Inference\", face_image)\n",
    "\n",
    "unique = list(np.unique(y))\n",
    "y = np.array([unique.index(elem) for elem in y])"
   ]
  },
  {
   "cell_type": "code",
   "execution_count": null,
   "metadata": {},
   "outputs": [],
   "source": [
    "X_test = []\n",
    "y_test = []\n",
    "\n",
    "frame = cv2.imread('test1.jpg')\n",
    "results = model(frame)\n",
    "b = results[0].boxes.xyxy[0].numpy().astype(int)\n",
    "annotated_frame = frame[b[1]:b[3], b[0]:b[2]]\n",
    "face_image = cv2.resize(annotated_frame, (128, 128))\n",
    "embedding_result = embedder.embeddings([face_image])[0]\n",
    "X_test.append(embedding_result)\n",
    "y_test.append('Pranav Kuppa')\n",
    "\n",
    "frame = cv2.imread('test2.jpg')\n",
    "results = model(frame)\n",
    "b = results[0].boxes.xyxy[0].numpy().astype(int)\n",
    "annotated_frame = frame[b[1]:b[3], b[0]:b[2]]\n",
    "face_image = cv2.resize(annotated_frame, (128, 128))\n",
    "embedding_result = embedder.embeddings([face_image])[0]\n",
    "X_test.append(embedding_result)\n",
    "y_test.append('Pranav Kuppa')\n",
    "\n",
    "frame = cv2.imread('test3.jpg')\n",
    "results = model(frame)\n",
    "b = results[0].boxes.xyxy[0].numpy().astype(int)\n",
    "annotated_frame = frame[b[1]:b[3], b[0]:b[2]]\n",
    "face_image = cv2.resize(annotated_frame, (128, 128))\n",
    "embedding_result = embedder.embeddings([face_image])[0]\n",
    "X_test.append(embedding_result)\n",
    "y_test.append('Ayaan Siddiqui')\n",
    "\n",
    "y_test = np.array([unique.index(elem) for elem in y_test])"
   ]
  },
  {
   "cell_type": "code",
   "execution_count": null,
   "metadata": {},
   "outputs": [],
   "source": [
    "from sklearn.decomposition import PCA\n",
    "pca=PCA(n_components=2)\n",
    "pca.fit(X)\n",
    "X_pca=pca.transform(X)\n",
    "\n",
    "pca=PCA()\n",
    "pca.fit(X)\n",
    "\n",
    "plt.figure(1, figsize=(12,8))\n",
    "\n",
    "plt.plot(pca.explained_variance_, linewidth=2)\n",
    " \n",
    "plt.xlabel('Components')\n",
    "plt.ylabel('Explained Variaces')\n",
    "plt.show()"
   ]
  },
  {
   "cell_type": "code",
   "execution_count": null,
   "metadata": {},
   "outputs": [],
   "source": [
    "n_components = 50\n",
    "\n",
    "pca=PCA(n_components=n_components, whiten=True)\n",
    "pca.fit(X)"
   ]
  },
  {
   "cell_type": "code",
   "execution_count": null,
   "metadata": {},
   "outputs": [],
   "source": [
    "from sklearn.svm import SVC\n",
    "from sklearn import metrics\n",
    "\n",
    "X_pca=pca.transform(X)\n",
    "X_test_pca = pca.transform(X_test)"
   ]
  },
  {
   "cell_type": "code",
   "execution_count": null,
   "metadata": {},
   "outputs": [],
   "source": [
    "X_pca.shape"
   ]
  },
  {
   "cell_type": "code",
   "execution_count": null,
   "metadata": {},
   "outputs": [],
   "source": [
    "X_test_pca.shape"
   ]
  },
  {
   "cell_type": "code",
   "execution_count": null,
   "metadata": {},
   "outputs": [],
   "source": [
    "y.shape"
   ]
  },
  {
   "cell_type": "code",
   "execution_count": null,
   "metadata": {},
   "outputs": [],
   "source": [
    "np.array([np.argmax(a) for a in y]).shape"
   ]
  },
  {
   "cell_type": "code",
   "execution_count": null,
   "metadata": {},
   "outputs": [],
   "source": [
    "clf = SVC(kernel='linear', probability=True)\n",
    "\n",
    "clf.fit(X_pca, y)\n",
    "\n",
    "y_pred = clf.predict(X_test_pca)\n",
    "\n",
    "print(y_test)\n",
    "print(y_pred)"
   ]
  },
  {
   "cell_type": "code",
   "execution_count": null,
   "metadata": {},
   "outputs": [],
   "source": [
    "import pickle\n",
    "\n",
    "with open('model.pkl','wb') as f:\n",
    "    pickle.dump(clf,f)"
   ]
  },
  {
   "cell_type": "code",
   "execution_count": null,
   "metadata": {},
   "outputs": [],
   "source": [
    "with open('pca_model.pkl','wb') as f:\n",
    "    pickle.dump(pca,f)"
   ]
  }
 ],
 "metadata": {
  "kernelspec": {
   "display_name": "Python 3",
   "language": "python",
   "name": "python3"
  },
  "language_info": {
   "codemirror_mode": {
    "name": "ipython",
    "version": 3
   },
   "file_extension": ".py",
   "mimetype": "text/x-python",
   "name": "python",
   "nbconvert_exporter": "python",
   "pygments_lexer": "ipython3",
   "version": "3.11.5"
  }
 },
 "nbformat": 4,
 "nbformat_minor": 2
}
